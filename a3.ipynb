{
  "nbformat": 4,
  "nbformat_minor": 0,
  "metadata": {
    "colab": {
      "name": "a3.ipynb",
      "provenance": []
    },
    "kernelspec": {
      "name": "python3",
      "display_name": "Python 3"
    }
  },
  "cells": [
    {
      "cell_type": "code",
      "metadata": {
        "id": "f-fXzFcWUnqS",
        "colab_type": "code",
        "colab": {
          "base_uri": "https://localhost:8080/",
          "height": 34
        },
        "outputId": "010869b0-ee63-4e3b-9db8-aca8d08bb9cc"
      },
      "source": [
        "# Python code to demonstrate string length  \n",
        "# using while loop. \n",
        "  \n",
        "# Returns length of string \n",
        "def findLen(str): \n",
        "    counter = 0\n",
        "    while str[counter:]: \n",
        "        counter += 1\n",
        "    return counter \n",
        "  \n",
        "str = \"refrigerator\"\n",
        "print(findLen(str)) "
      ],
      "execution_count": 1,
      "outputs": [
        {
          "output_type": "stream",
          "text": [
            "12\n"
          ],
          "name": "stdout"
        }
      ]
    },
    {
      "cell_type": "code",
      "metadata": {
        "id": "UWmly3-fXq5A",
        "colab_type": "code",
        "colab": {
          "base_uri": "https://localhost:8080/",
          "height": 187
        },
        "outputId": "b21a3bb9-7ffc-477d-e75d-3cf30b0165df"
      },
      "source": [
        "# Python program to Print Characters in a String\n",
        " \n",
        "str1 = input(\"Please Enter your Own String : \")\n",
        " \n",
        "for i in range(len(str1)):\n",
        "    print(\"The Character at %d Index Position = %c\" %(i, str1[i]))"
      ],
      "execution_count": 2,
      "outputs": [
        {
          "output_type": "stream",
          "text": [
            "Please Enter your Own String : ravikumar\n",
            "The Character at 0 Index Position = r\n",
            "The Character at 1 Index Position = a\n",
            "The Character at 2 Index Position = v\n",
            "The Character at 3 Index Position = i\n",
            "The Character at 4 Index Position = k\n",
            "The Character at 5 Index Position = u\n",
            "The Character at 6 Index Position = m\n",
            "The Character at 7 Index Position = a\n",
            "The Character at 8 Index Position = r\n"
          ],
          "name": "stdout"
        }
      ]
    },
    {
      "cell_type": "code",
      "metadata": {
        "id": "qzmwS0iAcuxL",
        "colab_type": "code",
        "colab": {
          "base_uri": "https://localhost:8080/",
          "height": 34
        },
        "outputId": "bb245d73-e718-4d1b-e442-7dad4006a3fa"
      },
      "source": [
        "def remove(string,i):\n",
        "     a=string[:i]\n",
        "     b=string[i+1:] \n",
        "     #adding two strings a and b\n",
        "     return  a + b \n",
        "     #deleting position at i\n",
        "if __name__==\"__main__\":\n",
        "     string=\"Ravi kumar\"\n",
        "     i=4\n",
        "print(remove(string,i))"
      ],
      "execution_count": 29,
      "outputs": [
        {
          "output_type": "stream",
          "text": [
            "Ravikumar\n"
          ],
          "name": "stdout"
        }
      ]
    },
    {
      "cell_type": "code",
      "metadata": {
        "id": "b-_tBysffRnY",
        "colab_type": "code",
        "colab": {
          "base_uri": "https://localhost:8080/",
          "height": 34
        },
        "outputId": "2e2dc115-1919-4539-aa49-cc29a7476413"
      },
      "source": [
        "# Python code to convert string to list \n",
        "  \n",
        "def Convert(string): \n",
        "    li = list(string.split(\" \")) \n",
        "    return li \n",
        "  \n",
        "# Driver code     \n",
        "str1 = 'ravikumar chowdary tholuchuri'\n",
        "print(Convert(str1))"
      ],
      "execution_count": 35,
      "outputs": [
        {
          "output_type": "stream",
          "text": [
            "['ravikumar', 'chowdary', 'tholuchuri']\n"
          ],
          "name": "stdout"
        }
      ]
    },
    {
      "cell_type": "code",
      "metadata": {
        "id": "0jjPwUT1h-Ml",
        "colab_type": "code",
        "colab": {
          "base_uri": "https://localhost:8080/",
          "height": 34
        },
        "outputId": "47fa3a55-84de-4f78-ed93-b1d81abd09c7"
      },
      "source": [
        "# Python code to demonstrate \n",
        "# to count total number \n",
        "# of substring in string \n",
        "\n",
        "import re \n",
        "# Initialising string \n",
        "ini_str = \"ababababa\"\n",
        "sub_str = 'aba'\n",
        "\n",
        "# Count count of substrings using re.finditer \n",
        "res = sum(1 for _ in re.finditer('(?= aba)', ini_str)) \n",
        "\n",
        "# Printing result \n",
        "print(\"Number of substrings\", res) \n"
      ],
      "execution_count": 36,
      "outputs": [
        {
          "output_type": "stream",
          "text": [
            "Number of substrings 0\n"
          ],
          "name": "stdout"
        }
      ]
    },
    {
      "cell_type": "code",
      "metadata": {
        "id": "W_RxH6q3jIab",
        "colab_type": "code",
        "colab": {
          "base_uri": "https://localhost:8080/",
          "height": 51
        },
        "outputId": "788ad448-4f74-4509-d5d0-c6b5276c6dbe"
      },
      "source": [
        "# Python3 code to demonstrate working of \n",
        "# Removing newline character from string \n",
        "# using loop \n",
        "\n",
        "# initialize list \n",
        "test_list = ['gf\\ng', 'i\\ns', 'b\\nest', 'fo\\nr', 'geeks\\n'] \n",
        "\n",
        "# printing original list \n",
        "print(test_list) \n",
        "\n",
        "# Removing newline character from string \n",
        "# using loop \n",
        "res = [] \n",
        "for sub in test_list: \n",
        "\tres.append(sub.replace(\"\\n\", \"\")) \n",
        "\t\t\n",
        "# printing result \n",
        "print(res) \n"
      ],
      "execution_count": 43,
      "outputs": [
        {
          "output_type": "stream",
          "text": [
            "['gf\\ng', 'i\\ns', 'b\\nest', 'fo\\nr', 'geeks\\n']\n",
            "['gfg', 'is', 'best', 'for', 'geeks']\n"
          ],
          "name": "stdout"
        }
      ]
    }
  ]
}